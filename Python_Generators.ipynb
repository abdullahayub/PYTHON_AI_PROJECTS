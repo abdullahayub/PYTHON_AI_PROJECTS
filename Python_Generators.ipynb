{
 "cells": [
  {
   "cell_type": "markdown",
   "metadata": {},
   "source": [
    "# Learing Core Concept of Python Generatros "
   ]
  },
  {
   "cell_type": "markdown",
   "metadata": {},
   "source": [
    "Python Generators are often considered a somewhat advanced topic, but they are actually very easy to understand once you start using them on a regular basis. Actually, after you use generators for some time, you will often find them more readable and performant than other options.\n",
    "\n",
    "In this notebook, we will look at what a python generator is, how and why we would use one, and the performance benefits they give us."
   ]
  },
  {
   "cell_type": "markdown",
   "metadata": {},
   "source": [
    "# A simple program to calculate the square of given list of numbers "
   ]
  },
  {
   "cell_type": "code",
   "execution_count": 1,
   "metadata": {},
   "outputs": [
    {
     "name": "stdout",
     "output_type": "stream",
     "text": [
      "[1, 4, 9, 16, 25, 36]\n"
     ]
    }
   ],
   "source": [
    "def square_numbers(nums):\n",
    "    result = []\n",
    "    for i in nums:\n",
    "        result.append(i*i)\n",
    "    return result\n",
    "\n",
    "\n",
    "my_nums = square_numbers([1,2,3,4,5,6])\n",
    "print(my_nums)"
   ]
  },
  {
   "cell_type": "markdown",
   "metadata": {},
   "source": [
    "# Doing the same task using PYTHON GENERATORS"
   ]
  },
  {
   "cell_type": "code",
   "execution_count": 2,
   "metadata": {},
   "outputs": [
    {
     "name": "stdout",
     "output_type": "stream",
     "text": [
      "<generator object square_numbers at 0x000002D78D7653C0>\n"
     ]
    }
   ],
   "source": [
    "def square_numbers(nums):\n",
    "    for i in nums:\n",
    "        yield (i*i)  \n",
    "        # This yield keyword makes a \n",
    "        #function,a generator\n",
    "\n",
    "my_nums = square_numbers([1,2,3,4,5])\n",
    "print(my_nums)\n",
    "\n",
    "# my_nums = (x*x for x in [1,2,3,4,5])\n",
    "\n",
    "# print(list(my_nums)) # [1, 4, 9, 16, 25]\n",
    "\n",
    "# for num in my_nums:\n",
    "#     print (num)"
   ]
  },
  {
   "cell_type": "code",
   "execution_count": 3,
   "metadata": {},
   "outputs": [],
   "source": [
    "# see we are no loger getting the required \n",
    "# output[1,4,9,1,6,25,26] here\n",
    "# instead we are getting a generator object \n",
    "# this gen-object hold our value of output"
   ]
  },
  {
   "cell_type": "markdown",
   "metadata": {},
   "source": [
    "# Use of \"Next\" keyword"
   ]
  },
  {
   "cell_type": "code",
   "execution_count": 4,
   "metadata": {},
   "outputs": [
    {
     "name": "stdout",
     "output_type": "stream",
     "text": [
      "1\n"
     ]
    }
   ],
   "source": [
    "print(next(my_nums))\n",
    "# if i do this many times i will get my result one by one"
   ]
  },
  {
   "cell_type": "code",
   "execution_count": 5,
   "metadata": {},
   "outputs": [
    {
     "name": "stdout",
     "output_type": "stream",
     "text": [
      "4\n",
      "9\n",
      "16\n",
      "25\n"
     ]
    }
   ],
   "source": [
    "print(next(my_nums))\n",
    "print(next(my_nums))\n",
    "print(next(my_nums))\n",
    "print(next(my_nums))"
   ]
  },
  {
   "cell_type": "code",
   "execution_count": 6,
   "metadata": {},
   "outputs": [
    {
     "ename": "StopIteration",
     "evalue": "",
     "output_type": "error",
     "traceback": [
      "\u001b[1;31m---------------------------------------------------------------------------\u001b[0m",
      "\u001b[1;31mStopIteration\u001b[0m                             Traceback (most recent call last)",
      "Cell \u001b[1;32mIn[6], line 3\u001b[0m\n\u001b[0;32m      1\u001b[0m \u001b[38;5;66;03m# since we have get all our values now \u001b[39;00m\n\u001b[0;32m      2\u001b[0m \u001b[38;5;66;03m# it will through en error if i do next again\u001b[39;00m\n\u001b[1;32m----> 3\u001b[0m \u001b[38;5;28mprint\u001b[39m(\u001b[38;5;28mnext\u001b[39m(my_nums))\n",
      "\u001b[1;31mStopIteration\u001b[0m: "
     ]
    }
   ],
   "source": [
    "# since we have get all our values now \n",
    "# it will through en error if i do next again\n",
    "print(next(my_nums))"
   ]
  },
  {
   "cell_type": "raw",
   "metadata": {},
   "source": [
    "We can still use a for loop to access all values in one go!!"
   ]
  },
  {
   "cell_type": "code",
   "execution_count": 7,
   "metadata": {},
   "outputs": [
    {
     "name": "stdout",
     "output_type": "stream",
     "text": [
      "1\n",
      "4\n",
      "9\n",
      "16\n",
      "25\n"
     ]
    }
   ],
   "source": [
    "def square_numbers(nums):\n",
    "    for i in nums:\n",
    "        yield (i*i)  \n",
    "        # This yield keyword makes a \n",
    "        #function,a generator\n",
    "\n",
    "my_nums = square_numbers([1,2,3,4,5])\n",
    "\n",
    "# using a fool loop to access all values\n",
    "\n",
    "for num in my_nums:\n",
    "    print(num)"
   ]
  },
  {
   "cell_type": "markdown",
   "metadata": {},
   "source": [
    "Questios: So what is the advantage of generator over a list      \n",
    "          operation?\n",
    "Answers:  - This way is much more readable rather than setting \n",
    "          result to an empty list and then returning the result             etc etc,\n",
    "          - it is easy to understand and much easir to write.\n",
    "          - Generators are memory efficent. they dont hold al                 values al together in memory in a varaible. Instead,             in memory values are passed one after one. This is               beauty of generators, in case we need one million                 records to loop through we always need a varaible to             hold all the records in memory.  \n"
   ]
  },
  {
   "cell_type": "markdown",
   "metadata": {},
   "source": [
    "# List comprehension in form of Generators"
   ]
  },
  {
   "cell_type": "code",
   "execution_count": 8,
   "metadata": {},
   "outputs": [],
   "source": [
    "my_nums= (i*i for i in [1,2,3,4,5,6])\n",
    "# notice in a list comprehension we use [] but \n",
    "#when working with generators use ()"
   ]
  },
  {
   "cell_type": "code",
   "execution_count": 9,
   "metadata": {},
   "outputs": [
    {
     "name": "stdout",
     "output_type": "stream",
     "text": [
      "1\n"
     ]
    }
   ],
   "source": [
    "print(next(my_nums))"
   ]
  },
  {
   "cell_type": "code",
   "execution_count": 10,
   "metadata": {},
   "outputs": [
    {
     "name": "stdout",
     "output_type": "stream",
     "text": [
      "4\n"
     ]
    }
   ],
   "source": [
    "print(next(my_nums))"
   ]
  },
  {
   "cell_type": "code",
   "execution_count": 11,
   "metadata": {},
   "outputs": [
    {
     "name": "stdout",
     "output_type": "stream",
     "text": [
      "1\n",
      "4\n",
      "9\n",
      "16\n",
      "25\n",
      "36\n"
     ]
    }
   ],
   "source": [
    "# for loop to access all values\n",
    "my_nums= (i*i for i in [1,2,3,4,5,6])\n",
    "for num in my_nums:\n",
    "    print(num)"
   ]
  },
  {
   "cell_type": "markdown",
   "metadata": {},
   "source": [
    "# Another example to clearly understand what i mean memory efficient"
   ]
  },
  {
   "cell_type": "code",
   "execution_count": 13,
   "metadata": {},
   "outputs": [
    {
     "name": "stdout",
     "output_type": "stream",
     "text": [
      "Defaulting to user installation because normal site-packages is not writeable\n",
      "Collecting pympler\n",
      "  Downloading Pympler-1.0.1-py3-none-any.whl.metadata (3.4 kB)\n",
      "Downloading Pympler-1.0.1-py3-none-any.whl (164 kB)\n",
      "   ---------------------------------------- 0.0/164.8 kB ? eta -:--:--\n",
      "   ---------------------------------------- 0.0/164.8 kB ? eta -:--:--\n",
      "   ---------------------------------------- 0.0/164.8 kB ? eta -:--:--\n",
      "   -- ------------------------------------- 10.2/164.8 kB ? eta -:--:--\n",
      "   ------- ------------------------------- 30.7/164.8 kB 330.3 kB/s eta 0:00:01\n",
      "   ------------------- ------------------- 81.9/164.8 kB 573.4 kB/s eta 0:00:01\n",
      "   -------------------------------------- 164.8/164.8 kB 898.7 kB/s eta 0:00:00\n",
      "Installing collected packages: pympler\n",
      "Successfully installed pympler-1.0.1\n"
     ]
    }
   ],
   "source": [
    "!pip install pympler"
   ]
  },
  {
   "cell_type": "code",
   "execution_count": 14,
   "metadata": {},
   "outputs": [
    {
     "name": "stdout",
     "output_type": "stream",
     "text": [
      "Defaulting to user installation because normal site-packages is not writeable\n",
      "Collecting resource\n",
      "  Downloading Resource-0.2.1-py2.py3-none-any.whl.metadata (478 bytes)\n",
      "Collecting JsonForm>=0.0.2 (from resource)\n",
      "  Downloading JsonForm-0.0.2.tar.gz (2.4 kB)\n",
      "  Preparing metadata (setup.py): started\n",
      "  Preparing metadata (setup.py): finished with status 'done'\n",
      "Collecting JsonSir>=0.0.2 (from resource)\n",
      "  Downloading JsonSir-0.0.2.tar.gz (2.2 kB)\n",
      "  Preparing metadata (setup.py): started\n",
      "  Preparing metadata (setup.py): finished with status 'done'\n",
      "Collecting python-easyconfig>=0.1.0 (from resource)\n",
      "  Downloading Python_EasyConfig-0.1.7-py2.py3-none-any.whl.metadata (462 bytes)\n",
      "Requirement already satisfied: jsonschema in c:\\programdata\\anaconda3\\lib\\site-packages (from JsonForm>=0.0.2->resource) (4.19.2)\n",
      "Requirement already satisfied: PyYAML in c:\\programdata\\anaconda3\\lib\\site-packages (from python-easyconfig>=0.1.0->resource) (6.0.1)\n",
      "Requirement already satisfied: six in c:\\programdata\\anaconda3\\lib\\site-packages (from python-easyconfig>=0.1.0->resource) (1.16.0)\n",
      "Requirement already satisfied: attrs>=22.2.0 in c:\\programdata\\anaconda3\\lib\\site-packages (from jsonschema->JsonForm>=0.0.2->resource) (23.1.0)\n",
      "Requirement already satisfied: jsonschema-specifications>=2023.03.6 in c:\\programdata\\anaconda3\\lib\\site-packages (from jsonschema->JsonForm>=0.0.2->resource) (2023.7.1)\n",
      "Requirement already satisfied: referencing>=0.28.4 in c:\\programdata\\anaconda3\\lib\\site-packages (from jsonschema->JsonForm>=0.0.2->resource) (0.30.2)\n",
      "Requirement already satisfied: rpds-py>=0.7.1 in c:\\programdata\\anaconda3\\lib\\site-packages (from jsonschema->JsonForm>=0.0.2->resource) (0.10.6)\n",
      "Downloading Resource-0.2.1-py2.py3-none-any.whl (25 kB)\n",
      "Downloading Python_EasyConfig-0.1.7-py2.py3-none-any.whl (5.4 kB)\n",
      "Building wheels for collected packages: JsonForm, JsonSir\n",
      "  Building wheel for JsonForm (setup.py): started\n",
      "  Building wheel for JsonForm (setup.py): finished with status 'done'\n",
      "  Created wheel for JsonForm: filename=JsonForm-0.0.2-py3-none-any.whl size=3319 sha256=05d1f9b504d33c32086ef842d53522dc4aa946c2c393bfda42bbe94e92c6ed3d\n",
      "  Stored in directory: c:\\users\\idrees\\appdata\\local\\pip\\cache\\wheels\\ee\\53\\ac\\c77344bd941889aa16ad694cb203ee587de1749e973ba9fdb8\n",
      "  Building wheel for JsonSir (setup.py): started\n",
      "  Building wheel for JsonSir (setup.py): finished with status 'done'\n",
      "  Created wheel for JsonSir: filename=JsonSir-0.0.2-py3-none-any.whl size=4763 sha256=723d52975dbf3bd665202e185a104b6d475a9d1b33f5d72311e4ca07d0632770\n",
      "  Stored in directory: c:\\users\\idrees\\appdata\\local\\pip\\cache\\wheels\\d0\\92\\1d\\bdf54bd7aefaf8305526450e3337733509b755328692619664\n",
      "Successfully built JsonForm JsonSir\n",
      "Installing collected packages: JsonSir, python-easyconfig, JsonForm, resource\n",
      "Successfully installed JsonForm-0.0.2 JsonSir-0.0.2 python-easyconfig-0.1.7 resource-0.2.1\n"
     ]
    }
   ],
   "source": [
    "!pip install resource"
   ]
  },
  {
   "cell_type": "code",
   "execution_count": 16,
   "metadata": {},
   "outputs": [
    {
     "name": "stdout",
     "output_type": "stream",
     "text": [
      "Defaulting to user installation because normal site-packages is not writeable\n",
      "Requirement already satisfied: Resource in c:\\users\\idrees\\appdata\\roaming\\python\\python311\\site-packages (0.2.1)\n",
      "Requirement already satisfied: JsonForm>=0.0.2 in c:\\users\\idrees\\appdata\\roaming\\python\\python311\\site-packages (from Resource) (0.0.2)\n",
      "Requirement already satisfied: JsonSir>=0.0.2 in c:\\users\\idrees\\appdata\\roaming\\python\\python311\\site-packages (from Resource) (0.0.2)\n",
      "Requirement already satisfied: python-easyconfig>=0.1.0 in c:\\users\\idrees\\appdata\\roaming\\python\\python311\\site-packages (from Resource) (0.1.7)\n",
      "Requirement already satisfied: jsonschema in c:\\programdata\\anaconda3\\lib\\site-packages (from JsonForm>=0.0.2->Resource) (4.19.2)\n",
      "Requirement already satisfied: PyYAML in c:\\programdata\\anaconda3\\lib\\site-packages (from python-easyconfig>=0.1.0->Resource) (6.0.1)\n",
      "Requirement already satisfied: six in c:\\programdata\\anaconda3\\lib\\site-packages (from python-easyconfig>=0.1.0->Resource) (1.16.0)\n",
      "Requirement already satisfied: attrs>=22.2.0 in c:\\programdata\\anaconda3\\lib\\site-packages (from jsonschema->JsonForm>=0.0.2->Resource) (23.1.0)\n",
      "Requirement already satisfied: jsonschema-specifications>=2023.03.6 in c:\\programdata\\anaconda3\\lib\\site-packages (from jsonschema->JsonForm>=0.0.2->Resource) (2023.7.1)\n",
      "Requirement already satisfied: referencing>=0.28.4 in c:\\programdata\\anaconda3\\lib\\site-packages (from jsonschema->JsonForm>=0.0.2->Resource) (0.30.2)\n",
      "Requirement already satisfied: rpds-py>=0.7.1 in c:\\programdata\\anaconda3\\lib\\site-packages (from jsonschema->JsonForm>=0.0.2->Resource) (0.10.6)\n",
      "Note: you may need to restart the kernel to use updated packages.\n"
     ]
    }
   ],
   "source": [
    "pip install Resource"
   ]
  },
  {
   "cell_type": "code",
   "execution_count": 3,
   "metadata": {},
   "outputs": [
    {
     "ename": "ModuleNotFoundError",
     "evalue": "No module named 'resource'",
     "output_type": "error",
     "traceback": [
      "\u001b[1;31m---------------------------------------------------------------------------\u001b[0m",
      "\u001b[1;31mModuleNotFoundError\u001b[0m                       Traceback (most recent call last)",
      "Cell \u001b[1;32mIn[3], line 9\u001b[0m\n\u001b[0;32m      7\u001b[0m \u001b[38;5;28;01mfrom\u001b[39;00m \u001b[38;5;21;01mpympler\u001b[39;00m \u001b[38;5;28;01mimport\u001b[39;00m summary, muppy\n\u001b[0;32m      8\u001b[0m \u001b[38;5;28;01mimport\u001b[39;00m \u001b[38;5;21;01mpsutil\u001b[39;00m\n\u001b[1;32m----> 9\u001b[0m \u001b[38;5;28;01mimport\u001b[39;00m \u001b[38;5;21;01mresource\u001b[39;00m\n\u001b[0;32m     10\u001b[0m \u001b[38;5;28;01mimport\u001b[39;00m \u001b[38;5;21;01mos\u001b[39;00m\n\u001b[0;32m     11\u001b[0m \u001b[38;5;28;01mimport\u001b[39;00m \u001b[38;5;21;01msys\u001b[39;00m\n",
      "\u001b[1;31mModuleNotFoundError\u001b[0m: No module named 'resource'"
     ]
    }
   ],
   "source": [
    "# %load mem_profile.py\n",
    "\n",
    "##############################################################\n",
    "####Dont bother oabout all this it only tell us effiecney#####\n",
    "##############################################################\n",
    "\n",
    "from pympler import summary, muppy\n",
    "import psutil\n",
    "import resource\n",
    "import os\n",
    "import sys\n",
    "\n",
    "def memory_usage_psutil():\n",
    "    # return the memory usage in MB\n",
    "    process = psutil.Process(os.getpid())\n",
    "    mem = process.get_memory_info()[0] / float(2 ** 20)\n",
    "    return mem\n",
    "\n",
    "def memory_usage_resource():\n",
    "    rusage_denom = 1024.\n",
    "    if sys.platform == 'darwin':\n",
    "        # ... it seems that in OSX the output is different units ...\n",
    "        rusage_denom = rusage_denom * rusage_denom\n",
    "    mem = Resource.getrusage(Resource.RUSAGE_SELF).ru_maxrss / rusage_denom\n",
    "    return mem\n"
   ]
  },
  {
   "cell_type": "code",
   "execution_count": 4,
   "metadata": {},
   "outputs": [
    {
     "name": "stdout",
     "output_type": "stream",
     "text": [
      "Defaulting to user installation because normal site-packages is not writeable\n",
      "Note: you may need to restart the kernel to use updated packages.\n"
     ]
    },
    {
     "name": "stderr",
     "output_type": "stream",
     "text": [
      "ERROR: Could not find a version that satisfies the requirement mem_profile (from versions: none)\n",
      "ERROR: No matching distribution found for mem_profile\n"
     ]
    }
   ],
   "source": [
    "pip install mem_profile"
   ]
  },
  {
   "cell_type": "code",
   "execution_count": 1,
   "metadata": {},
   "outputs": [
    {
     "ename": "ModuleNotFoundError",
     "evalue": "No module named 'mem_profile'",
     "output_type": "error",
     "traceback": [
      "\u001b[1;31m---------------------------------------------------------------------------\u001b[0m",
      "\u001b[1;31mModuleNotFoundError\u001b[0m                       Traceback (most recent call last)",
      "Cell \u001b[1;32mIn[1], line 1\u001b[0m\n\u001b[1;32m----> 1\u001b[0m \u001b[38;5;28;01mimport\u001b[39;00m \u001b[38;5;21;01mmem_profile\u001b[39;00m\n\u001b[0;32m      2\u001b[0m \u001b[38;5;28;01mimport\u001b[39;00m \u001b[38;5;21;01mrandom\u001b[39;00m\n\u001b[0;32m      3\u001b[0m \u001b[38;5;28;01mimport\u001b[39;00m \u001b[38;5;21;01mtime\u001b[39;00m\n",
      "\u001b[1;31mModuleNotFoundError\u001b[0m: No module named 'mem_profile'"
     ]
    }
   ],
   "source": [
    "import mem_profile\n",
    "import random\n",
    "import time\n",
    "\n",
    "names = ['John', 'Corey', 'Adam', 'Steve', 'Rick', 'Thomas']\n",
    "majors = ['Math', 'Engineering', 'CompSci', 'Arts', 'Business']\n",
    "\n",
    "print('Memory (Before): {}Mb').format(mem_profile.memory_usage_psutil())\n",
    "\n",
    "def people_list(num_people):\n",
    "    result = []\n",
    "    for i in xrange(num_people):\n",
    "        person = {\n",
    "                    'id': i,\n",
    "                    'name': random.choice(names),\n",
    "                    'major': random.choice(majors)\n",
    "                }\n",
    "        result.append(person)\n",
    "    return result\n",
    "\n",
    "def people_generator(num_people):\n",
    "    for i in xrange(num_people):\n",
    "        person = {\n",
    "                    'id': i,\n",
    "                    'name': random.choice(names),\n",
    "                    'major': random.choice(majors)\n",
    "                }\n",
    "        yield person\n",
    "\n",
    "# t1 = time.clock()\n",
    "# people = people_list(1000000)\n",
    "# t2 = time.clock()\n",
    "\n",
    "t1 = time.clock()\n",
    "people = people_generator(1000000)\n",
    "t2 = time.clock()\n",
    "\n",
    "print (\"Memory (After) : {}Mb\").format(mem_profile.memory_usage_psutil())\n",
    "print (\"Took {} Seconds\").format(t2-t1)"
   ]
  },
  {
   "cell_type": "code",
   "execution_count": null,
   "metadata": {},
   "outputs": [],
   "source": []
  }
 ],
 "metadata": {
  "kernelspec": {
   "display_name": "Python 3 (ipykernel)",
   "language": "python",
   "name": "python3"
  },
  "language_info": {
   "codemirror_mode": {
    "name": "ipython",
    "version": 3
   },
   "file_extension": ".py",
   "mimetype": "text/x-python",
   "name": "python",
   "nbconvert_exporter": "python",
   "pygments_lexer": "ipython3",
   "version": "3.11.7"
  }
 },
 "nbformat": 4,
 "nbformat_minor": 4
}
